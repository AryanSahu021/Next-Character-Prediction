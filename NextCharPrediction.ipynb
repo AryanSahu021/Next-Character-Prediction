{
  "cells": [
    {
      "cell_type": "markdown",
      "metadata": {
        "id": "Vya56w4ayPWH"
      },
      "source": [
        "# Objective\n",
        "\n",
        "Replicate the [notebook](https://nipunbatra.github.io/ml-teaching/notebooks/names.html) on the next character prediction and use it for generation of text. Use one of the datasets specified below for training. Refer to Andrej Karpathy’s blog post on Effectiveness of RNNs. Visualise the embeddings using t-SNE if using more than 2 dimensions or using a scatter plot if using 2 dimensions. Write a streamlit application which asks users for an input text and it then predicts next k characters.\n",
        "\n",
        "Datasets (first few based on Effectiveness of RNN blog post from Karpathy et al.)\n",
        "- Paul Graham essays\n",
        "- Wikipedia (English)\n",
        "- Shakespeare\n",
        "- Maths texbook\n",
        "- Something comparable in spirit but of your choice (do confirm with TA Ayush)\n"
      ]
    },
    {
      "cell_type": "code",
      "execution_count": null,
      "metadata": {
        "id": "nfcWNZTjyOrY"
      },
      "outputs": [],
      "source": [
        "import torch\n",
        "import torch.nn.functional as F\n",
        "from torch import nn\n",
        "import pandas as pd\n",
        "import matplotlib.pyplot as plt # for making figures\n",
        "%matplotlib inline\n",
        "%config InlineBackend.figure_format = 'retina'\n",
        "from pprint import pprint"
      ]
    },
    {
      "cell_type": "code",
      "execution_count": null,
      "metadata": {
        "id": "EbV4tFGWzgqh"
      },
      "outputs": [],
      "source": [
        "device = torch.device(\"cuda\" if torch.cuda.is_available() else \"cpu\")"
      ]
    },
    {
      "cell_type": "code",
      "execution_count": null,
      "metadata": {
        "id": "4DbWYdeT0zqQ"
      },
      "outputs": [],
      "source": [
        "class NextChar(nn.Module):\n",
        "  def __init__(self, block_size, vocab_size, emb_dim, hidden_size):\n",
        "    super().__init__()\n",
        "    self.emb = nn.Embedding(vocab_size, emb_dim)\n",
        "    self.lin1 = nn.Linear(block_size * emb_dim, hidden_size)\n",
        "    self.lin2 = nn.Linear(hidden_size, vocab_size)\n",
        "\n",
        "  def forward(self, x):\n",
        "    x = self.emb(x)\n",
        "    x = x.view(x.shape[0], -1)\n",
        "    x = torch.sin(self.lin1(x))\n",
        "    x = self.lin2(x)\n",
        "    return x\n"
      ]
    },
    {
      "cell_type": "code",
      "execution_count": null,
      "metadata": {
        "colab": {
          "base_uri": "https://localhost:8080/"
        },
        "id": "08256fWu17p7",
        "outputId": "95a02d2b-70f4-4eaf-d588-0c8b7dff2e8e"
      },
      "outputs": [
        {
          "name": "stdout",
          "output_type": "stream",
          "text": [
            "0 1.923312783241272\n",
            "10 1.3228328227996826\n",
            "20 1.248609185218811\n",
            "30 1.2064248323440552\n",
            "40 1.1798676252365112\n",
            "50 1.161126971244812\n",
            "60 1.1457465887069702\n",
            "70 1.1349283456802368\n",
            "80 1.1285734176635742\n",
            "90 1.1252113580703735\n"
          ]
        }
      ],
      "source": [
        "import torch._dynamo\n",
        "torch._dynamo.config.suppress_errors = True\n",
        "\n",
        "\n",
        "# Function to preprocess the text data\n",
        "def preprocess_text(text):\n",
        "    # Convert characters to ASCII values\n",
        "    ascii_values = [ord(char) for char in text]\n",
        "    return ascii_values\n",
        "\n",
        "# Function to create training sequences\n",
        "def create_sequences(text, seq_length):\n",
        "    sequences = []\n",
        "    for i in range(len(text) - seq_length-1):\n",
        "        seq = text[i:i+seq_length+1]\n",
        "        sequences.append(seq)\n",
        "    return sequences\n",
        "\n",
        "# Function to generate X and y for training\n",
        "def generate_train_data(sequences):\n",
        "    X = []\n",
        "    y = []\n",
        "    for seq in sequences:\n",
        "        X.append(seq[:-1])\n",
        "        y.append(seq[-1])\n",
        "    return np.array(X), np.array(y)\n",
        "\n",
        "class NextChar1(nn.Module):\n",
        "  def __init__(self, block_size, vocab_size, emb_dim, hidden_size):\n",
        "    super().__init__()\n",
        "    self.emb = nn.Embedding(vocab_size, emb_dim)\n",
        "    self.lin1 = nn.Linear(block_size * emb_dim, hidden_size)\n",
        "    self.lin2 = nn.Linear(hidden_size, vocab_size)\n",
        "\n",
        "  def forward(self, x):\n",
        "    x = self.emb(x)\n",
        "    x = x.view(x.shape[0], -1)\n",
        "    x = torch.sin(self.lin1(x))\n",
        "    x = self.lin2(x)\n",
        "    return x\n",
        "# Function to build and train the model\n",
        "def build_and_train_model(X_train, y_train, vocab_size, block_size, emb_dim=2):\n",
        "    model = NextChar1(block_size, vocab_size, emb_dim, 500).to(device)\n",
        "    model = torch.compile(model)\n",
        "    loss_fn = nn.CrossEntropyLoss()\n",
        "    opt = torch.optim.AdamW(model.parameters(), lr=0.003)\n",
        "    # Mini-batch training\n",
        "    batch_size = 4096\n",
        "    print_every = 10\n",
        "    for epoch in range(100):\n",
        "        for i in range(0, X_train.shape[0], batch_size):\n",
        "            x = X_train[i:i+batch_size]\n",
        "            y = y_train[i:i+batch_size]\n",
        "            y_pred = model(x)\n",
        "            loss = loss_fn(y_pred, y)\n",
        "            loss.backward()\n",
        "            opt.step()\n",
        "            opt.zero_grad()\n",
        "        if epoch % print_every == 0:\n",
        "            print(epoch, loss.item())\n",
        "    return model\n",
        "\n",
        "# Function to predict next k characters\n",
        "\n",
        "\n",
        "\n",
        "\n",
        "    # Load and preprocess training data\n",
        "with open('input.txt', 'r') as file:\n",
        "    training_text = file.read()\n",
        "training_text = preprocess_text(training_text)\n",
        "\n",
        "# Define sequence length and create sequences\n",
        "block_size = 10  # You can adjust this value\n",
        "sequences = create_sequences(training_text, block_size)\n",
        "\n",
        "# Generate X and y for training\n",
        "X, y = generate_train_data(sequences)\n",
        "\n",
        "X = torch.tensor(X).to(device)\n",
        "y = torch.tensor(y).to(device)\n",
        "# Build and train the model\n",
        "vocab_size = 256  # ASCII characters\n",
        "model_1 = build_and_train_model(X, y, vocab_size, block_size, emb_dim=20)\n"
      ]
    },
    {
      "cell_type": "code",
      "execution_count": null,
      "metadata": {
        "id": "mVESeNYqkd2S"
      },
      "outputs": [],
      "source": [
        "import torch\n",
        "\n",
        "# Save model\n",
        "torch.save(model_1.state_dict(), 'your_model.pth')\n",
        "\n"
      ]
    },
    {
      "cell_type": "code",
      "execution_count": null,
      "metadata": {
        "id": "fEVe9VGs7QgV"
      },
      "outputs": [],
      "source": [
        "def predict_next_chars(text, k, model, seq_length):\n",
        "    input_seq = np.array(preprocess_text(text))\n",
        "    input_seq = np.reshape(input_seq, (1, -1))\n",
        "    input_seq = input_seq[:, -seq_length:]\n",
        "    input_seq = torch.tensor(input_seq).to(device)  # Get only the last seq_length characters\n",
        "    predicted_chars = ''\n",
        "    for i in range(k):\n",
        "      with torch.no_grad():\n",
        "        y_pred = model(input_seq)\n",
        "        prediction = torch.distributions.categorical.Categorical(logits=y_pred).sample().item()\n",
        "        predicted_chars += chr(prediction)\n",
        "        input_seq = torch.cat((input_seq[:, 1:], torch.tensor(prediction).to(device).view(1,-1)),axis=1)\n",
        "        input_seq = input_seq.reshape((1, -1))\n",
        "    return predicted_chars"
      ]
    },
    {
      "cell_type": "markdown",
      "metadata": {
        "id": "mhsJjc6BGmcA"
      },
      "source": [
        "The stage is set. ROMEO:\n",
        "The merit is here\n",
        "in\n",
        "qualing wamen?\n",
        "\n",
        "GRUMIO:\n",
        "Ane seah cartabroans.\n",
        "What we canio,\n",
        "De thinces, for floz apun ouslicule, Lablage it is griet not despigibled and hear.\n",
        "\n",
        "ANGELO:\n",
        "Ay, are ovorp\n",
        "commant,\n",
        "The's are no mikest our dreety dognesses.\n",
        "\n",
        "YORKIGOPT\n",
        "\n",
        "\n",
        "Thou forsod begualio, of Hicerows, with me? Buy comp, palar,\n",
        "What domost looke and thinours; I'll serve aight I'll mease atlemeny day sondrick'd\n",
        "As every hapfore nill\n",
        "Or mast?\n",
        "O arust thousard, VnsUnBaO:\n",
        "For thou art speeds\n",
        "how thou sugrtua;\n",
        "Or sa"
      ]
    },
    {
      "cell_type": "markdown",
      "metadata": {
        "id": "vCWd48CdAHgq"
      },
      "source": [
        "What? Word for thee's make\n",
        "And not for north bost the veepose, his off\n",
        "The vishrought fresome,\n",
        "I'ereming unes aray boots Lucentions\n",
        "Andracle:' to oby bland\n",
        "bowle where again.\n",
        "\n",
        "CURTIS:\n",
        "Comes\n",
        "Waters instance\n",
        "But so vistrits rever\n",
        "In four desil thing,\n",
        "Take of it: back, I am at the gepton.\n",
        "\n",
        "PROSPERO:\n",
        "Myson.\n",
        "\n",
        "Ne so was one it is the shall I' this strible trispressewenty are is ever such a such me sweet, make you read of kare, speak! they hear eddina,\n",
        "Whithem; and ever when is rome raght a son! 'pose,\n",
        "The"
      ]
    },
    {
      "cell_type": "code",
      "execution_count": null,
      "metadata": {
        "id": "EwciZNPnge2p"
      },
      "outputs": [],
      "source": [
        "\n",
        "import torch\n",
        "import torch.nn.functional as F\n",
        "from torch import nn\n",
        "import numpy as np\n"
      ]
    },
    {
      "cell_type": "code",
      "execution_count": null,
      "metadata": {
        "id": "twhHUtHzkOoS"
      },
      "outputs": [],
      "source": []
    },
    {
      "cell_type": "code",
      "execution_count": null,
      "metadata": {
        "id": "nF-_RhH1QxRv"
      },
      "outputs": [],
      "source": [
        "device = torch.device(\"cuda\" if torch.cuda.is_available() else \"cpu\")"
      ]
    },
    {
      "cell_type": "code",
      "execution_count": null,
      "metadata": {
        "colab": {
          "base_uri": "https://localhost:8080/"
        },
        "id": "vL0Rjwbj162C",
        "outputId": "8ecb22a4-f7f5-4087-c5da-0706a12e709e"
      },
      "outputs": [
        {
          "name": "stdout",
          "output_type": "stream",
          "text": [
            "0 2.5242698192596436\n",
            "100 2.0887677669525146\n",
            "200 2.0387282371520996\n",
            "300 2.0358150005340576\n",
            "400 2.046663761138916\n",
            "500 2.0480244159698486\n",
            "600 2.0453784465789795\n",
            "700 2.0366554260253906\n",
            "800 2.050675868988037\n",
            "900 2.0097765922546387\n"
          ]
        }
      ],
      "source": [
        "import torch._dynamo\n",
        "torch._dynamo.config.suppress_errors = True\n",
        "\n",
        "# Function to preprocess the text data\n",
        "def preprocess_text(text):\n",
        "    # Convert characters to ASCII values\n",
        "    ascii_values = [ord(char) for char in text]\n",
        "    return ascii_values\n",
        "\n",
        "# Function to create training sequences\n",
        "def create_sequences(text, seq_length):\n",
        "    sequences = []\n",
        "    for i in range(len(text) - seq_length-1):\n",
        "        seq = text[i:i+seq_length+1]\n",
        "        sequences.append(seq)\n",
        "    return sequences\n",
        "\n",
        "# Function to generate X and y for training\n",
        "def generate_train_data(sequences):\n",
        "    X = []\n",
        "    y = []\n",
        "    for seq in sequences:\n",
        "        X.append(seq[:-1])\n",
        "        y.append(seq[-1])\n",
        "    return np.array(X), np.array(y)\n",
        "\n",
        "class NextChar(nn.Module):\n",
        "  def __init__(self, block_size, vocab_size, emb_dim, hidden_size):\n",
        "    super().__init__()\n",
        "    self.emb = nn.Embedding(vocab_size, emb_dim)\n",
        "    self.lin1 = nn.Linear(block_size * emb_dim, hidden_size*8)\n",
        "    self.lin2 = nn.Linear(hidden_size*8, hidden_size*4)\n",
        "    self.lin3 = nn.Linear(hidden_size*4, hidden_size*2)\n",
        "    self.lin4 = nn.Linear(hidden_size*2, hidden_size)\n",
        "    self.lin5 = nn.Linear(hidden_size, vocab_size)\n",
        "\n",
        "  def forward(self, x):\n",
        "    x = self.emb(x)\n",
        "    x = x.view(x.shape[0], -1)\n",
        "    x = torch.sin(self.lin1(x))\n",
        "    x = torch.sin(self.lin2(x))\n",
        "    x = torch.sin(self.lin3(x))\n",
        "    x = torch.sin(self.lin4(x))\n",
        "    x = self.lin5(x)\n",
        "    return x\n",
        "# Function to build and train the model\n",
        "def build_and_train_model(X_train, y_train, vocab_size, block_size, emb_dim=2):\n",
        "    model = NextChar(block_size, vocab_size, emb_dim, 10).to(device)\n",
        "    model = torch.compile(model)\n",
        "    loss_fn = nn.CrossEntropyLoss()\n",
        "    opt = torch.optim.AdamW(model.parameters(), lr=0.01)\n",
        "    # Mini-batch training\n",
        "    batch_size = 4096\n",
        "    print_every = 100\n",
        "    for epoch in range(1000):\n",
        "        for i in range(0, X_train.shape[0], batch_size):\n",
        "            x = X_train[i:i+batch_size]\n",
        "            y = y_train[i:i+batch_size]\n",
        "            y_pred = model(x)\n",
        "            loss = loss_fn(y_pred, y)\n",
        "            loss.backward()\n",
        "            opt.step()\n",
        "            opt.zero_grad()\n",
        "        if epoch % print_every == 0:\n",
        "            print(epoch, loss.item())\n",
        "    return model\n",
        "\n",
        "# Function to predict next k characters\n",
        "\n",
        "    # Load and preprocess training data\n",
        "with open('input.txt', 'r') as file:\n",
        "    training_text = file.read()\n",
        "training_text = preprocess_text(training_text)\n",
        "\n",
        "# Define sequence length and create sequences\n",
        "block_size = 5  # You can adjust this value\n",
        "sequences = create_sequences(training_text, block_size)\n",
        "\n",
        "# Generate X and y for training\n",
        "X, y = generate_train_data(sequences)\n",
        "\n",
        "X = torch.tensor(X).to(device)\n",
        "y = torch.tensor(y).to(device)\n",
        "# Build and train the model\n",
        "vocab_size = 256  # ASCII characters\n",
        "model = build_and_train_model(X, y, vocab_size, block_size, emb_dim=2)\n"
      ]
    },
    {
      "cell_type": "code",
      "execution_count": null,
      "metadata": {
        "id": "7Fxj4gyOaKta"
      },
      "outputs": [],
      "source": [
        "\n",
        "# Function to preprocess the text data\n",
        "def preprocess_text(text):\n",
        "    # Convert characters to ASCII values\n",
        "    ascii_values = [ord(char) for char in text]\n",
        "    return ascii_values\n",
        "\n",
        "# Function to create training sequences\n",
        "def create_sequences(text, seq_length):\n",
        "    sequences = []\n",
        "    for i in range(len(text) - seq_length-1):\n",
        "        seq = text[i:i+seq_length+1]\n",
        "        sequences.append(seq)\n",
        "    return sequences\n"
      ]
    },
    {
      "cell_type": "code",
      "execution_count": null,
      "metadata": {
        "colab": {
          "base_uri": "https://localhost:8080/"
        },
        "id": "HxKulS0Ct2zu",
        "outputId": "cb3d5575-3034-4dcc-c3ad-290ba4c8e85d"
      },
      "outputs": [
        {
          "data": {
            "text/plain": [
              "(torch.Size([1115388, 5]), torch.Size([1115388]))"
            ]
          },
          "execution_count": 45,
          "metadata": {},
          "output_type": "execute_result"
        }
      ],
      "source": [
        "X.shape, y.shape"
      ]
    },
    {
      "cell_type": "code",
      "execution_count": null,
      "metadata": {
        "id": "vSQIs_KhuUmN"
      },
      "outputs": [],
      "source": [
        "# Save model\n",
        "torch.save(model.state_dict(), 'model_5_2_10.pth')"
      ]
    },
    {
      "cell_type": "code",
      "execution_count": null,
      "metadata": {
        "id": "mfgKgnb1km7k"
      },
      "outputs": [],
      "source": [
        "def predict_next_chars(text, k, model, seq_length):\n",
        "    input_seq = np.array(preprocess_text(text))\n",
        "    if len(input_seq) < seq_length:\n",
        "        # Pad zeros to the beginning if input text is shorter than seq_length\n",
        "        input_seq = np.pad(input_seq, (seq_length - len(input_seq), 0), mode='constant')\n",
        "    else:\n",
        "        input_seq = input_seq[-seq_length:]  # Get only the last seq_length characters\n",
        "    input_seq = np.reshape(input_seq, (1, -1))\n",
        "\n",
        "    input_seq = torch.tensor(input_seq).to(device)  # Get only the last seq_length characters\n",
        "    predicted_chars = ''\n",
        "    for i in range(k):\n",
        "        y_pred = model(input_seq)\n",
        "        prediction = torch.distributions.categorical.Categorical(logits=y_pred).sample().item()\n",
        "        predicted_chars += chr(prediction)\n",
        "        input_seq = torch.cat((input_seq[:, 1:], torch.tensor(prediction).to(device).view(1,-1)),axis=1)\n",
        "        input_seq = input_seq.reshape((1, -1))\n",
        "    return predicted_chars"
      ]
    },
    {
      "cell_type": "code",
      "execution_count": null,
      "metadata": {
        "colab": {
          "base_uri": "https://localhost:8080/",
          "height": 105
        },
        "id": "VYd1jvdnNbN-",
        "outputId": "6f9db69a-6a94-4b7f-b45d-755e8032631a"
      },
      "outputs": [
        {
          "name": "stdout",
          "output_type": "stream",
          "text": [
            "Character Prediction App\n",
            "Enter some text and predict the next k characters.\n",
            "Enter text:Hello world\n",
            "Enter number of characters to predict:30\n"
          ]
        },
        {
          "data": {
            "application/vnd.google.colaboratory.intrinsic+json": {
              "type": "string"
            },
            "text/plain": [
              "'Hello world.\\n\\nDUKE VINCENTIO:\\nI kave wron'"
            ]
          },
          "execution_count": 53,
          "metadata": {},
          "output_type": "execute_result"
        }
      ],
      "source": [
        "\n",
        "print(\"Character Prediction App\")\n",
        "print(\"Enter some text and predict the next k characters.\")\n",
        "\n",
        "text_input = input(\"Enter text:\")\n",
        "k = int(input(\"Enter number of characters to predict:\"))\n",
        "\n",
        "next_chars=predict_next_chars(text_input,k,model_5_20_80,block_size)\n",
        "text_input+next_chars"
      ]
    },
    {
      "cell_type": "markdown",
      "metadata": {
        "id": "jz8WOAzAJ_wa"
      },
      "source": [
        "Apples we gracious cindher.\n",
        "\n",
        "ROMEO:\n",
        "To the so rice to be with behold death; but, batinx that she breather I sent to thinks this condition and at times of Lisumomeward, shall not I had so until the can ass ianger:\n",
        "And that you qre?\n",
        "\n",
        "PAULINA:\n",
        "Good father is not with he never\n",
        "I love,\n",
        "And you know how her thy life lurking me in hopes of a full, that your both fiery first Gentlemen! Wediterrible!\n",
        "Then, the may gether,\n",
        "My mind;\n",
        "More my wife in the command make gods, deliver to hold it the\n",
        "duke's.\n",
        "Well, my"
      ]
    },
    {
      "cell_type": "code",
      "execution_count": null,
      "metadata": {
        "colab": {
          "base_uri": "https://localhost:8080/"
        },
        "id": "Hx7cHb4aePbo",
        "outputId": "193d82ba-9566-4476-c22f-2e65738cdf1e"
      },
      "outputs": [
        {
          "name": "stdout",
          "output_type": "stream",
          "text": [
            "\u001b[2K     \u001b[90m━━━━━━━━━━━━━━━━━━━━━━━━━━━━━━━━━━━━━━━━\u001b[0m \u001b[32m8.1/8.1 MB\u001b[0m \u001b[31m17.1 MB/s\u001b[0m eta \u001b[36m0:00:00\u001b[0m\n",
            "\u001b[2K     \u001b[90m━━━━━━━━━━━━━━━━━━━━━━━━━━━━━━━━━━━━━━━━\u001b[0m \u001b[32m53.0/53.0 kB\u001b[0m \u001b[31m3.7 MB/s\u001b[0m eta \u001b[36m0:00:00\u001b[0m\n",
            "\u001b[2K     \u001b[90m━━━━━━━━━━━━━━━━━━━━━━━━━━━━━━━━━━━━━━━━\u001b[0m \u001b[32m195.4/195.4 kB\u001b[0m \u001b[31m13.2 MB/s\u001b[0m eta \u001b[36m0:00:00\u001b[0m\n",
            "\u001b[2K     \u001b[90m━━━━━━━━━━━━━━━━━━━━━━━━━━━━━━━━━━━━━━━━\u001b[0m \u001b[32m4.8/4.8 MB\u001b[0m \u001b[31m22.6 MB/s\u001b[0m eta \u001b[36m0:00:00\u001b[0m\n",
            "\u001b[2K     \u001b[90m━━━━━━━━━━━━━━━━━━━━━━━━━━━━━━━━━━━━━━━━\u001b[0m \u001b[32m83.0/83.0 kB\u001b[0m \u001b[31m4.8 MB/s\u001b[0m eta \u001b[36m0:00:00\u001b[0m\n",
            "\u001b[2K     \u001b[90m━━━━━━━━━━━━━━━━━━━━━━━━━━━━━━━━━━━━━━━━\u001b[0m \u001b[32m62.7/62.7 kB\u001b[0m \u001b[31m5.0 MB/s\u001b[0m eta \u001b[36m0:00:00\u001b[0m\n",
            "\u001b[?25h"
          ]
        }
      ],
      "source": [
        "!pip install -q streamlit"
      ]
    },
    {
      "cell_type": "code",
      "execution_count": null,
      "metadata": {
        "colab": {
          "base_uri": "https://localhost:8080/"
        },
        "id": "OtbGW6Syd-wh",
        "outputId": "44ddd606-5370-43be-bedf-fbce317c0893"
      },
      "outputs": [
        {
          "name": "stdout",
          "output_type": "stream",
          "text": [
            "Overwriting app.py\n"
          ]
        }
      ],
      "source": [
        "%%writefile app.py\n",
        "import streamlit as st\n",
        "import joblib\n",
        "import torch\n",
        "import torch.nn.functional as F\n",
        "from torch import nn\n",
        "import numpy as np\n",
        "import matplotlib.pyplot as plt\n",
        "from sklearn.manifold import TSNE\n",
        "\n",
        "device = torch.device(\"cuda\" if torch.cuda.is_available() else \"cpu\")\n",
        "def preprocess_text(text):\n",
        "    # Convert characters to ASCII values\n",
        "    ascii_values = [ord(char) for char in text]\n",
        "    return ascii_values\n",
        "\n",
        "# Function to create training sequences\n",
        "def create_sequences(text, seq_length):\n",
        "    sequences = []\n",
        "    for i in range(len(text) - seq_length-1):\n",
        "        seq = text[i:i+seq_length+1]\n",
        "        sequences.append(seq)\n",
        "    return sequences\n",
        "\n",
        "# Function to predict next k characters\n",
        "def predict_next_chars(text, k, model, seq_length):\n",
        "    input_seq = np.array(preprocess_text(text))\n",
        "    if len(input_seq) < seq_length:\n",
        "        # Pad zeros to the beginning if input text is shorter than seq_length\n",
        "        input_seq = np.pad(input_seq, (seq_length - len(input_seq), 0), mode='constant')\n",
        "    else:\n",
        "        input_seq = input_seq[-seq_length:]  # Get only the last seq_length characters\n",
        "    input_seq = np.reshape(input_seq, (1, -1))\n",
        "    input_seq = torch.tensor(input_seq).to(device)  # Get only the last seq_length characters\n",
        "    predicted_chars = ''\n",
        "    for i in range(k):\n",
        "      with torch.no_grad():\n",
        "        y_pred = model(input_seq)\n",
        "        prediction = torch.distributions.categorical.Categorical(logits=y_pred).sample().item()\n",
        "        predicted_chars += chr(prediction)\n",
        "        input_seq = torch.cat((input_seq[:, 1:], torch.tensor(prediction).to(device).view(1,-1)),axis=1)\n",
        "        input_seq = input_seq.reshape((1, -1))\n",
        "    return predicted_chars\n",
        "\n",
        "def plot_emb_2d(prev_emb, loaded_emb, itos):\n",
        "    # Compute t-SNE transformation for prev_emb\n",
        "    tsne = TSNE(n_components=2)\n",
        "    prev_emb_2d = tsne.fit_transform(prev_emb.cpu().detach().numpy())\n",
        "\n",
        "    # Compute t-SNE transformation for loaded_emb\n",
        "    loaded_emb_2d = tsne.fit_transform(loaded_emb.cpu().detach().numpy())\n",
        "\n",
        "    # Plot prev_emb\n",
        "    fig, axs = plt.subplots(1, 2, figsize=(12, 6))\n",
        "    plot_single_emb_2d(prev_emb_2d, itos, axs[0], title='Previous Weights')\n",
        "\n",
        "    # Plot loaded_emb\n",
        "    plot_single_emb_2d(loaded_emb_2d, itos, axs[1], title='Loaded Weights')\n",
        "\n",
        "    # Show plot\n",
        "    st.pyplot(fig)\n",
        "\n",
        "def plot_single_emb_2d(emb_2d, itos, ax, title):\n",
        "    for i in range(len(itos)):\n",
        "        x, y = emb_2d[i]\n",
        "        if itos[i] in 'aeiou':\n",
        "            color = 'r'\n",
        "        elif itos[i] in 'AEIOU':\n",
        "            color = 'b'\n",
        "        elif itos[i] in 'bcdfghjklmnpqrstvwxyz':\n",
        "            color = 'g'\n",
        "        elif itos[i] in 'bcdfghjklmnpqrstvwxyz'.upper():\n",
        "            color = 'orange'\n",
        "        else:\n",
        "            continue\n",
        "        ax.scatter(x, y, color=color)\n",
        "        ax.text(x + 0.05, y + 0.05, itos[i])\n",
        "    ax.set_title(title)\n",
        "    ax.set_xlabel('Dimension 1')\n",
        "    ax.set_ylabel('Dimension 2')\n",
        "\n",
        "# Main function for Streamlit app\n",
        "def main():\n",
        "    st.title(\"Next Character Predictor\")\n",
        "    g = torch.Generator()\n",
        "    seed = st.number_input(\"Enter Seed:\",step = 1)\n",
        "    g.manual_seed(seed)\n",
        "    # Load model\n",
        "    class NextChar(nn.Module):\n",
        "      def __init__(self, block_size, vocab_size, emb_dim, hidden_size):\n",
        "        super().__init__()\n",
        "        self.emb = nn.Embedding(vocab_size, emb_dim)\n",
        "        self.lin1 = nn.Linear(block_size * emb_dim, hidden_size*8)\n",
        "        self.lin2 = nn.Linear(hidden_size*8, hidden_size*4)\n",
        "        self.lin3 = nn.Linear(hidden_size*4, hidden_size*2)\n",
        "        self.lin4 = nn.Linear(hidden_size*2, hidden_size)\n",
        "        self.lin5 = nn.Linear(hidden_size, vocab_size)\n",
        "\n",
        "      def forward(self, x):\n",
        "        x = self.emb(x)\n",
        "        x = x.view(x.shape[0], -1)\n",
        "        x = torch.sin(self.lin1(x))\n",
        "        x = torch.sin(self.lin2(x))\n",
        "        x = torch.sin(self.lin3(x))\n",
        "        x = torch.sin(self.lin4(x))\n",
        "        x = self.lin5(x)\n",
        "        return x\n",
        "    switch_state = st.checkbox(\"Vary parameters\")\n",
        "    if (switch_state):\n",
        "      block_size = st.select_slider(\"Select Block Size:\",options = [3,4,5,6])\n",
        "      vocab_size = 256\n",
        "      if block_size == 5:\n",
        "        h_options = [20,40,60,80]\n",
        "        hidden_size = st.select_slider(\"Select hidden layer size:\", options = h_options)\n",
        "      else:\n",
        "        hidden_size = 20\n",
        "        st.text(\"Hidden size = 20\")\n",
        "      if hidden_size == 20:\n",
        "        if block_size == 5:\n",
        "          e_options = [3, 5, 8, 12]\n",
        "          emb_dim = st.select_slider(\"Select Embedding dimensions:\", options = e_options)\n",
        "        else:\n",
        "          emb_dim = 3\n",
        "          st.text(\"Embedding Dimension = 3\")\n",
        "      else:\n",
        "        emb_dim = 5\n",
        "        st.text(\"Embedding Dimension = 5\")\n",
        "    else:\n",
        "      block_size = 5\n",
        "      vocab_size = 256\n",
        "      hidden_size = 80\n",
        "      emb_dim = 20\n",
        "    your_model = NextChar(block_size, vocab_size, emb_dim, hidden_size).to(device)  # Make sure to initialize your model class\n",
        "    # Load the state dictionary\n",
        "    weights_prev = your_model.emb.weight\n",
        "    state_dict = torch.load(f'model_{block_size}_{emb_dim}_{hidden_size}.pth',map_location = device)\n",
        "\n",
        "    # Adjust keys if necessary\n",
        "    adjusted_state_dict = {}\n",
        "    for key, value in state_dict.items():\n",
        "        adjusted_key = key.replace('_orig_mod.', '')  # Adjust the keys as needed\n",
        "        adjusted_state_dict[adjusted_key] = value\n",
        "\n",
        "    # Load adjusted state dictionary\n",
        "    your_model.load_state_dict(adjusted_state_dict)\n",
        "    loaded_weight = your_model.emb.weight\n",
        "    # Input box for user to enter text\n",
        "    input_string = st.text_input(\"Enter your text:\", \"\")\n",
        "\n",
        "    # Input box for user to enter k\n",
        "    k = st.number_input(\"Enter k:\", value=1, step=1)\n",
        "\n",
        "    # Button to trigger prediction\n",
        "    if st.button(\"Predict\"):\n",
        "        if input_string:\n",
        "            predicted_chars = predict_next_chars(input_string, k, your_model, block_size)\n",
        "            st.write(\"Predicted next {} characters:\\n\".format(k))\n",
        "            st.write(input_string+predicted_chars)\n",
        "\n",
        "    if st.button(\"Visualize Embeddings\"):\n",
        "        itos = {i:chr(i) for i in range(256)}\n",
        "        plot_emb_2d(weights_prev, loaded_weight, itos)\n",
        "\n",
        "\n",
        "# Run the app\n",
        "if __name__ == \"__main__\":\n",
        "    main()\n"
      ]
    },
    {
      "cell_type": "code",
      "execution_count": null,
      "metadata": {
        "colab": {
          "base_uri": "https://localhost:8080/"
        },
        "id": "skuZHv7iemYs",
        "outputId": "b756f2fb-508d-474c-d66a-c0f4656b75c8"
      },
      "outputs": [
        {
          "name": "stdout",
          "output_type": "stream",
          "text": [
            "\u001b[K\u001b[?25h\u001b[37;40mnpm\u001b[0m \u001b[0m\u001b[30;43mWARN\u001b[0m \u001b[0m\u001b[35msaveError\u001b[0m ENOENT: no such file or directory, open '/content/package.json'\n",
            "\u001b[0m\u001b[37;40mnpm\u001b[0m \u001b[0m\u001b[34;40mnotice\u001b[0m\u001b[35m\u001b[0m created a lockfile as package-lock.json. You should commit this file.\n",
            "\u001b[0m\u001b[37;40mnpm\u001b[0m \u001b[0m\u001b[30;43mWARN\u001b[0m \u001b[0m\u001b[35menoent\u001b[0m ENOENT: no such file or directory, open '/content/package.json'\n",
            "\u001b[0m\u001b[37;40mnpm\u001b[0m \u001b[0m\u001b[30;43mWARN\u001b[0m\u001b[35m\u001b[0m content No description\n",
            "\u001b[0m\u001b[37;40mnpm\u001b[0m \u001b[0m\u001b[30;43mWARN\u001b[0m\u001b[35m\u001b[0m content No repository field.\n",
            "\u001b[0m\u001b[37;40mnpm\u001b[0m \u001b[0m\u001b[30;43mWARN\u001b[0m\u001b[35m\u001b[0m content No README data\n",
            "\u001b[0m\u001b[37;40mnpm\u001b[0m \u001b[0m\u001b[30;43mWARN\u001b[0m\u001b[35m\u001b[0m content No license field.\n",
            "\u001b[0m\n",
            "+ localtunnel@2.0.2\n",
            "added 22 packages from 22 contributors and audited 22 packages in 1.938s\n",
            "\n",
            "3 packages are looking for funding\n",
            "  run `npm fund` for details\n",
            "\n",
            "found 1 \u001b[93mmoderate\u001b[0m severity vulnerability\n",
            "  run `npm audit fix` to fix them, or `npm audit` for details\n",
            "\u001b[K\u001b[?25h"
          ]
        }
      ],
      "source": [
        "!npm install localtunnel"
      ]
    },
    {
      "cell_type": "code",
      "execution_count": null,
      "metadata": {
        "colab": {
          "base_uri": "https://localhost:8080/"
        },
        "id": "JxzX8PlYf5AV",
        "outputId": "2a8753a5-d6d1-4c99-c017-68e83c5aa3ec"
      },
      "outputs": [
        {
          "name": "stdout",
          "output_type": "stream",
          "text": [
            "\u001b[K\u001b[?25hnpx: installed 22 in 2.389s\n",
            "your url is: https://tame-rocks-throw.loca.lt\n"
          ]
        }
      ],
      "source": [
        "!streamlit run /content/app.py &>/content/logs.txt &\n",
        "!npx localtunnel --port 8501"
      ]
    },
    {
      "cell_type": "code",
      "execution_count": null,
      "metadata": {
        "id": "zc7UEyyHwwCA"
      },
      "outputs": [],
      "source": [
        "itos = {i:chr(i) for i in range(256)}"
      ]
    },
    {
      "cell_type": "code",
      "execution_count": null,
      "metadata": {
        "id": "VOleERmrxnRq"
      },
      "outputs": [],
      "source": [
        "from sklearn.manifold import TSNE\n",
        "import matplotlib.pyplot as plt"
      ]
    },
    {
      "cell_type": "code",
      "execution_count": null,
      "metadata": {
        "id": "9KOQ4t8YN3Eo"
      },
      "outputs": [],
      "source": []
    },
    {
      "cell_type": "code",
      "execution_count": null,
      "metadata": {
        "id": "W-2zkK06xllP"
      },
      "outputs": [],
      "source": [
        "class NextChar(nn.Module):\n",
        "  def __init__(self, block_size, vocab_size, emb_dim, hidden_size):\n",
        "    super().__init__()\n",
        "    self.emb = nn.Embedding(vocab_size, emb_dim)\n",
        "    self.lin1 = nn.Linear(block_size * emb_dim, hidden_size*8)\n",
        "    self.lin2 = nn.Linear(hidden_size*8, hidden_size*4)\n",
        "    self.lin3 = nn.Linear(hidden_size*4, hidden_size*2)\n",
        "    self.lin4 = nn.Linear(hidden_size*2, hidden_size)\n",
        "    self.lin5 = nn.Linear(hidden_size, vocab_size)\n",
        "\n",
        "  def forward(self, x):\n",
        "    x = self.emb(x)\n",
        "    x = x.view(x.shape[0], -1)\n",
        "    x = torch.sin(self.lin1(x))\n",
        "    x = torch.sin(self.lin2(x))\n",
        "    x = torch.sin(self.lin3(x))\n",
        "    x = torch.sin(self.lin4(x))\n",
        "    x = self.lin5(x)\n",
        "    return x\n",
        "block_size = 5\n",
        "vocab_size = 256\n",
        "hidden_size = 80\n",
        "emb_dim = 20\n",
        "your_model = NextChar(block_size, vocab_size, emb_dim, hidden_size).to(device)  # Make sure to initialize your model class\n",
        "# Load the state dictionary\n",
        "weights_prev = your_model.emb.weight\n",
        "state_dict = torch.load(f'model_{block_size}_{emb_dim}_{hidden_size}.pth',map_location= device)\n"
      ]
    },
    {
      "cell_type": "code",
      "execution_count": null,
      "metadata": {
        "colab": {
          "base_uri": "https://localhost:8080/",
          "height": 860
        },
        "id": "VMF7SaesOcRR",
        "outputId": "f9beb819-b5bf-4045-eb7c-72329126df5e"
      },
      "outputs": [
        {
          "data": {
            "text/plain": [
              "<Axes: >"
            ]
          },
          "execution_count": 13,
          "metadata": {},
          "output_type": "execute_result"
        },
        {
          "data": {
            "image/png": "[encoded data removed]",
            "text/plain": [
              "<Figure size 640x480 with 1 Axes>"
            ]
          },
          "metadata": {},
          "output_type": "display_data"
        },
        {
          "data": {
            "image/png": "[encoded data removed]",
            "text/plain": [
              "<Figure size 640x480 with 1 Axes>"
            ]
          },
          "metadata": {},
          "output_type": "display_data"
        }
      ],
      "source": [
        "def plot_emb_2d(emb, itos, ax=None):\n",
        "    # Compute t-SNE transformation\n",
        "    tsne = TSNE(n_components=2)\n",
        "    emb_2d = tsne.fit_transform(emb.cpu().detach().numpy())\n",
        "\n",
        "    if ax is None:\n",
        "        fig, ax = plt.subplots()\n",
        "    for i in range(len(itos)):\n",
        "        x, y = emb_2d[i]\n",
        "        if itos[i] in 'aeiou' : color = 'r'\n",
        "        elif itos[i] in 'AEIOU' : color = 'b'\n",
        "        elif itos[i] in 'bcdfghjklmnpqrstvwxyz' : color = 'g'\n",
        "        elif itos[i] in 'bcdfghjklmnpqrstvwxyz'.upper() : color = 'orange'\n",
        "        else : continue\n",
        "        ax.scatter(x, y, color = color)\n",
        "        ax.text(x + 0.05, y + 0.05, itos[i])\n",
        "    return ax\n",
        "\n",
        "plot_emb_2d(weights_prev,itos)\n",
        "\n",
        "plot_emb_2d(state_dict['_orig_mod.emb.weight'],itos)\n"
      ]
    },
    {
      "cell_type": "code",
      "execution_count": null,
      "metadata": {
        "colab": {
          "base_uri": "https://localhost:8080/"
        },
        "id": "V8FxQE0XO12J",
        "outputId": "97403288-3715-4ae0-926b-8fdf1a6a7462"
      },
      "outputs": [
        {
          "data": {
            "text/plain": [
              "<All keys matched successfully>"
            ]
          },
          "execution_count": 14,
          "metadata": {},
          "output_type": "execute_result"
        }
      ],
      "source": [
        "# Adjust keys if necessary\n",
        "adjusted_state_dict = {}\n",
        "for key, value in state_dict.items():\n",
        "    adjusted_key = key.replace('_orig_mod.', '')  # Adjust the keys as needed\n",
        "    adjusted_state_dict[adjusted_key] = value\n",
        "\n",
        "# Load adjusted state dictionary\n",
        "your_model.load_state_dict(adjusted_state_dict)\n"
      ]
    },
    {
      "cell_type": "code",
      "execution_count": null,
      "metadata": {
        "colab": {
          "base_uri": "https://localhost:8080/",
          "height": 105
        },
        "id": "kddK5s1DZ4v7",
        "outputId": "95d3ed2e-8874-4464-c6fb-39f8036d60ae"
      },
      "outputs": [
        {
          "name": "stdout",
          "output_type": "stream",
          "text": [
            "Character Prediction App\n",
            "Enter some text and predict the next k characters.\n",
            "Enter text:Hello\n",
            "Enter number of characters to predict:100\n"
          ]
        },
        {
          "data": {
            "application/vnd.google.colaboratory.intrinsic+json": {
              "type": "string"
            },
            "text/plain": [
              "'Hellow.\\n\\nHUMIdCLEter.\\n\\nANTONIO:\\nWell me, thy forth an assador of us with some more worship drift: if you '"
            ]
          },
          "execution_count": 17,
          "metadata": {},
          "output_type": "execute_result"
        }
      ],
      "source": [
        "\n",
        "print(\"Character Prediction App\")\n",
        "print(\"Enter some text and predict the next k characters.\")\n",
        "\n",
        "text_input = input(\"Enter text:\")\n",
        "k = int(input(\"Enter number of characters to predict:\"))\n",
        "\n",
        "next_chars=predict_next_chars(text_input,k,your_model,block_size)\n",
        "text_input+next_chars"
      ]
    },
    {
      "cell_type": "code",
      "execution_count": null,
      "metadata": {
        "id": "ii2PFLvAaBuI"
      },
      "outputs": [],
      "source": []
    }
  ],
  "metadata": {
    "colab": {
      "provenance": []
    },
    "kernelspec": {
      "display_name": "Python 3",
      "name": "python3"
    },
    "language_info": {
      "name": "python"
    }
  },
  "nbformat": 4,
  "nbformat_minor": 0
}
